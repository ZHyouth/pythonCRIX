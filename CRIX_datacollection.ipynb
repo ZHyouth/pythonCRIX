{
 "cells": [
  {
   "cell_type": "code",
   "execution_count": null,
   "id": "54c9fd37",
   "metadata": {},
   "outputs": [],
   "source": [
    "import warnings\n",
    "warnings.filterwarnings(\"ignore\")\n",
    "\n",
    "import pandas as pd\n",
    "import datetime as dt\n",
    "import time as t\n",
    "import plotly.graph_objects as go\n",
    "from plotly.offline import plot\n",
    "from pycoingecko import CoinGeckoAPI\n",
    "cg = CoinGeckoAPI()\n",
    "\n",
    "from tqdm import tqdm\n"
   ]
  },
  {
   "cell_type": "code",
   "execution_count": null,
   "id": "fd7edb52",
   "metadata": {},
   "outputs": [],
   "source": [
    "coin_lst = cg.get_coins_list()\n",
    "coin_df = pd.DataFrame.from_dict(coin_lst).sort_values('id'\n",
    "                                      ).reset_index(drop=True)\n",
    "coin_df\n",
    "\n"
   ]
  },
  {
   "cell_type": "code",
   "execution_count": null,
   "id": "0710f05a",
   "metadata": {},
   "outputs": [],
   "source": [
    "coins = list(coin_df['id'])\n",
    "coins"
   ]
  },
  {
   "cell_type": "code",
   "execution_count": null,
   "id": "381613ea",
   "metadata": {},
   "outputs": [],
   "source": [
    "daily_data0 = cg.get_coin_market_chart_range_by_id(id = 'bitcoin',\n",
    "                                    vs_currency = 'usd',\n",
    "                                     from_timestamp = 1396310400,\n",
    "                                     to_timestamp = 1490400000)\n",
    "daily_df0= pd.DataFrame(data = daily_data0['market_caps'], columns = ['Date', 'bitcoin'])\n",
    "daily_df0['Date'] = daily_df0['Date'].apply(lambda x: dt.datetime.fromtimestamp(x/1000).strftime('%Y-%m-%d'))\n",
    "daily_df0 = daily_df0.set_index('Date')\n",
    "\n",
    "a = 0\n",
    "for i in tqdm(coins):\n",
    "    #if a == 10:\n",
    "    #    break\n",
    "    daily_data = cg.get_coin_market_chart_by_id(id = i, \n",
    "                               vs_currency = 'usd',\n",
    "                              days='max')\n",
    "    df = pd.DataFrame(data = daily_data['market_caps'], columns = ['Date', i])\n",
    "    df = df.drop(df.index[-1])\n",
    "    df['Date'] = df['Date'].apply(lambda x: dt.datetime.fromtimestamp(x/1000).strftime('%Y-%m-%d'))\n",
    "    df = df.set_index('Date')\n",
    "\n",
    "    #df.dropna()\n",
    "\n",
    "    #df = df[df.Market_Caps !=0]\n",
    "    \n",
    "    #daily_df0 = daily_df0.join(df)\n",
    "    daily_df0 = pd.merge(left=daily_df0,right=df,left_index=True,right_index=True,how='left')\n",
    "    #display(daily_df0)\n",
    "    #a+=1\n",
    "    \n",
    "display(daily_df0)\n",
    "    \n",
    "    \n",
    "    "
   ]
  }
 ],
 "metadata": {
  "kernelspec": {
   "display_name": "Python 3 (ipykernel)",
   "language": "python",
   "name": "python3"
  },
  "language_info": {
   "codemirror_mode": {
    "name": "ipython",
    "version": 3
   },
   "file_extension": ".py",
   "mimetype": "text/x-python",
   "name": "python",
   "nbconvert_exporter": "python",
   "pygments_lexer": "ipython3",
   "version": "3.9.7"
  }
 },
 "nbformat": 4,
 "nbformat_minor": 5
}
